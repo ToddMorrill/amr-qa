{
 "cells": [
  {
   "cell_type": "code",
   "execution_count": 1,
   "id": "d6389155-65a4-47f0-a403-089eb24ca378",
   "metadata": {},
   "outputs": [],
   "source": [
    "import json\n",
    "import os\n",
    "import pickle\n",
    "\n",
    "import networkx as nx\n",
    "from networkx.drawing.nx_pydot import graphviz_layout\n",
    "import amrlib\n",
    "from amrlib.alignments.faa_aligner import FAA_Aligner\n",
    "import penman\n",
    "import matplotlib.pyplot as plt"
   ]
  },
  {
   "cell_type": "markdown",
   "id": "ea86803f-b5e1-4ffa-a57b-2c3ebfe7110d",
   "metadata": {},
   "source": [
    "### Load data"
   ]
  },
  {
   "cell_type": "code",
   "execution_count": 2,
   "id": "d4b4c333-e4de-49ea-8517-d32a7e271eea",
   "metadata": {},
   "outputs": [],
   "source": [
    "filename = './qald_9.json'\n",
    "with open(filename, 'r') as f:\n",
    "    qald = json.load(f)"
   ]
  },
  {
   "cell_type": "code",
   "execution_count": 3,
   "id": "ee422393-3e94-424d-8015-b1994f2a114a",
   "metadata": {},
   "outputs": [
    {
     "data": {
      "text/plain": [
       "408"
      ]
     },
     "execution_count": 3,
     "metadata": {},
     "output_type": "execute_result"
    }
   ],
   "source": [
    "len(qald)"
   ]
  },
  {
   "cell_type": "code",
   "execution_count": 4,
   "id": "34ebb933-c30c-4b6c-b6f7-c6a84f1571e8",
   "metadata": {},
   "outputs": [
    {
     "data": {
      "text/plain": [
       "{'text': 'Who developed Skype?',\n",
       " 'sparql': 'PREFIX dbo: <http://dbpedia.org/ontology/> PREFIX res: <http://dbpedia.org/resource/> PREFIX rdfs: <http://www.w3.org/2000/01/rdf-schema#> SELECT DISTINCT ?uri WHERE { res:Skype dbo:developer ?uri. }',\n",
       " 'extended_amr': '(d / develop-02\\n      :ARG0 (a / amr-unknown)\\n      :ARG1 (p / product\\n            :name (n / name\\n                  :op1 \"Skype\"))\\n\\t:entities ( el / entity_list\\n\\t\\t:entity (all0/ linked_entity\\n\\t\\t\\t\\t:surface_form \"Skype\"\\n\\t\\t\\t\\t:uri \"http://dbpedia.org/resource/Skype\")))\\n',\n",
       " 'relations': ['dbo:developer'],\n",
       " 'id': 1}"
      ]
     },
     "execution_count": 4,
     "metadata": {},
     "output_type": "execute_result"
    }
   ],
   "source": [
    "qald['train_1']"
   ]
  },
  {
   "cell_type": "code",
   "execution_count": 9,
   "id": "c5b33865-3b07-4a27-8554-b276416afa0b",
   "metadata": {},
   "outputs": [
    {
     "name": "stdout",
     "output_type": "stream",
     "text": [
      "(h / have-03\n",
      "      :ARG0 (c / country\n",
      "            :mod (a / amr-unknown))\n",
      "      :ARG1 (p / place\n",
      "            :ARG0-of (h2 / have-03\n",
      "                  :ARG1 (c2 / cave\n",
      "                        :quant (m / more-than\n",
      "                              :op1 2))))\n",
      "\t:entities ( el / entity_list\n",
      "\t\t:entity (all0/ linked_entity\n",
      "\t\t\t\t:surface_form \"country\"\n",
      "\t\t\t\t:uri \"http://dbpedia.org/ontology/Country\")\n",
      "\t\t:entity (all1/ linked_entity\n",
      "\t\t\t\t:surface_form \"cave\"\n",
      "\t\t\t\t:uri \"http://dbpedia.org/resource/Caves_of_Aggtelek_Karst_and_Slovak_Karst\")))\n",
      "\n"
     ]
    }
   ],
   "source": [
    "print(qald['train_5']['extended_amr'])"
   ]
  },
  {
   "cell_type": "code",
   "execution_count": 24,
   "id": "19d9a912-20a7-4e15-ab87-b03541f427b6",
   "metadata": {},
   "outputs": [],
   "source": [
    "from penman.models.amr import model\n",
    "from penman.models import noop"
   ]
  },
  {
   "cell_type": "code",
   "execution_count": 31,
   "id": "ec1b572b-7f70-407b-9445-88388586a909",
   "metadata": {},
   "outputs": [
    {
     "data": {
      "text/plain": [
       "[('h', ':instance', 'have-03'),\n",
       " ('h', ':ARG0', 'c'),\n",
       " ('c', ':instance', 'country'),\n",
       " ('c', ':mod', 'a'),\n",
       " ('a', ':instance', 'amr-unknown'),\n",
       " ('h', ':ARG1', 'p'),\n",
       " ('p', ':instance', 'place'),\n",
       " ('p', ':ARG0-of', 'h2'),\n",
       " ('h2', ':instance', 'have-03'),\n",
       " ('h2', ':ARG1', 'c2'),\n",
       " ('c2', ':instance', 'cave'),\n",
       " ('c2', ':quant', 'm'),\n",
       " ('m', ':instance', 'more-than'),\n",
       " ('m', ':op1', '2'),\n",
       " ('h', ':entities', 'el'),\n",
       " ('el', ':instance', 'entity_list'),\n",
       " ('el', ':entity', 'all0'),\n",
       " ('all0', ':instance', 'linked_entity'),\n",
       " ('all0', ':surface_form', '\"country\"'),\n",
       " ('all0', ':uri', '\"http://dbpedia.org/ontology/Country\"'),\n",
       " ('el', ':entity', 'all1'),\n",
       " ('all1', ':instance', 'linked_entity'),\n",
       " ('all1', ':surface_form', '\"cave\"'),\n",
       " ('all1',\n",
       "  ':uri',\n",
       "  '\"http://dbpedia.org/resource/Caves_of_Aggtelek_Karst_and_Slovak_Karst\"')]"
      ]
     },
     "execution_count": 31,
     "metadata": {},
     "output_type": "execute_result"
    }
   ],
   "source": [
    "penman.decode(qald['train_5']['extended_amr'], noop.NoOpModel())"
   ]
  },
  {
   "cell_type": "code",
   "execution_count": 29,
   "id": "77a6f603-46df-4606-9b60-bf0bb68e9e2c",
   "metadata": {},
   "outputs": [
    {
     "data": {
      "text/plain": [
       "[('h', ':instance', 'have-03'),\n",
       " ('h', ':ARG0', 'c'),\n",
       " ('c', ':instance', 'country'),\n",
       " ('c', ':mod', 'a'),\n",
       " ('a', ':instance', 'amr-unknown'),\n",
       " ('h', ':ARG1', 'p'),\n",
       " ('p', ':instance', 'place'),\n",
       " ('p', ':ARG0-of', 'h2'),\n",
       " ('h2', ':instance', 'have-03'),\n",
       " ('h2', ':ARG1', 'c2'),\n",
       " ('c2', ':instance', 'cave'),\n",
       " ('c2', ':quant', 'm'),\n",
       " ('m', ':instance', 'more-than'),\n",
       " ('m', ':op1', '2'),\n",
       " ('h', ':entities', 'el'),\n",
       " ('el', ':instance', 'entity_list'),\n",
       " ('el', ':entity', 'all0'),\n",
       " ('all0', ':instance', 'linked_entity'),\n",
       " ('all0', ':surface_form', '\"country\"'),\n",
       " ('all0', ':uri', '\"http://dbpedia.org/ontology/Country\"'),\n",
       " ('el', ':entity', 'all1'),\n",
       " ('all1', ':instance', 'linked_entity'),\n",
       " ('all1', ':surface_form', '\"cave\"'),\n",
       " ('all1',\n",
       "  ':uri',\n",
       "  '\"http://dbpedia.org/resource/Caves_of_Aggtelek_Karst_and_Slovak_Karst\"')]"
      ]
     },
     "execution_count": 29,
     "metadata": {},
     "output_type": "execute_result"
    }
   ],
   "source": [
    "tree = penman.parse(qald['train_5']['extended_amr'], )\n",
    "penman.interpret(tree, noop.NoOpModel()).triples"
   ]
  },
  {
   "cell_type": "markdown",
   "id": "871481ca-3666-4409-8907-bfdcb1d44847",
   "metadata": {},
   "source": [
    "### Demo AMRLib models"
   ]
  },
  {
   "cell_type": "code",
   "execution_count": 5,
   "id": "9491de13-5ec3-4157-9b01-819560280ed5",
   "metadata": {},
   "outputs": [],
   "source": [
    "# stog = amrlib.load_stog_model()\n",
    "# gtos = amrlib.load_gtos_model()\n",
    "\n",
    "# graphs = stog.parse_sents(['Who developed Skype?'])\n",
    "# for graph in graphs:\n",
    "#     print(graph)\n",
    "\n",
    "# gtos.generate(graphs=[qald['train_1']['extended_amr']])"
   ]
  },
  {
   "cell_type": "markdown",
   "id": "1b5e6533-2d72-4c0b-b597-1ba7b2082ce9",
   "metadata": {},
   "source": [
    "### Link surface forms to AMR nodes"
   ]
  },
  {
   "cell_type": "code",
   "execution_count": 6,
   "id": "c4ffedc1-aea2-4877-89b9-37a55c499aa7",
   "metadata": {},
   "outputs": [],
   "source": [
    "os.environ['FABIN_DIR'] = '/home/iron-man/Documents/fast_align/build'\n",
    "inference = FAA_Aligner()"
   ]
  },
  {
   "cell_type": "code",
   "execution_count": 7,
   "id": "3896b3a3-8702-43ff-932e-741fac065ced",
   "metadata": {},
   "outputs": [
    {
     "data": {
      "text/plain": [
       "'Where did Abraham Lincoln die?'"
      ]
     },
     "execution_count": 7,
     "metadata": {},
     "output_type": "execute_result"
    }
   ],
   "source": [
    "example = 6\n",
    "qald[f'train_{example}']['text']"
   ]
  },
  {
   "cell_type": "markdown",
   "id": "149dfa45-eb90-401c-80ed-aa65afe222f9",
   "metadata": {},
   "source": [
    "#### Remove entity nodes"
   ]
  },
  {
   "cell_type": "code",
   "execution_count": 8,
   "id": "96b75e98-4dc9-4960-8eeb-95fef259deb4",
   "metadata": {},
   "outputs": [
    {
     "name": "stdout",
     "output_type": "stream",
     "text": [
      "(d / die-01\n",
      "      :ARG1 (p / person\n",
      "            :name (n / name\n",
      "                  :op1 \"Abraham\"\n",
      "                  :op2 \"Lincoln\"))\n",
      "      :location (a / amr-unknown)\n",
      "\t:entities ( el / entity_list\n",
      "\t\t:entity (all0/ linked_entity\n",
      "\t\t\t\t:surface_form \"Abraham Lincoln\"\n",
      "\t\t\t\t:uri \"http://dbpedia.org/resource/Abraham_Lincoln\")))\n",
      "\n"
     ]
    }
   ],
   "source": [
    "print(qald[f'train_{example}']['extended_amr'])"
   ]
  },
  {
   "cell_type": "code",
   "execution_count": 9,
   "id": "53b6c830-6f75-41ae-bb4f-9123fb98b3c3",
   "metadata": {},
   "outputs": [
    {
     "name": "stdout",
     "output_type": "stream",
     "text": [
      "(d / die-01\n",
      "      :ARG1 (p / person\n",
      "            :name (n / name\n",
      "                  :op1 \"Abraham\"\n",
      "                  :op2 \"Lincoln\"))\n",
      "      :location (a / amr-unknown))\n"
     ]
    }
   ],
   "source": [
    "print(qald[f'train_{example}']['extended_amr'].split(':entities')[0].strip() + ')')"
   ]
  },
  {
   "cell_type": "code",
   "execution_count": 10,
   "id": "7e8225b7-9125-4edf-a8a2-a38cce679461",
   "metadata": {},
   "outputs": [],
   "source": [
    "# g_remove = penman.decode(qald[f'train_{example}']['extended_amr'])\n",
    "\n",
    "# # traverse edge from top down\n",
    "# # TODO: convert this into a BFS style traversal\n",
    "# remove_nodes = []\n",
    "# for edge in g_remove.edges():\n",
    "#     src, role, tgt = edge\n",
    "#     if src == g_remove.top and role == ':entities':\n",
    "#         remove_nodes.append(tgt)\n",
    "#         # recurse here?\n",
    "#         for edge in g_remove.edges():\n",
    "#             sub_src, sub_role, sub_tgt = edge\n",
    "#             if sub_src == tgt:\n",
    "#                 remove_nodes.append(sub_tgt)\n",
    "\n",
    "# # filter out subgraph\n",
    "# filtered_edges = []\n",
    "# for edge in g_remove.edges():\n",
    "#     src, role, tgt = edge\n",
    "#     if (src not in remove_nodes) and (tgt not in remove_nodes):\n",
    "#         filtered_edges.append(edge)\n",
    "\n",
    "# filtered_attributes = []\n",
    "# for edge in g_remove.attributes():\n",
    "#     src, role, tgt = edge\n",
    "#     if (src not in remove_nodes) and (tgt not in remove_nodes):\n",
    "#         filtered_attributes.append(edge)\n",
    "\n",
    "# filtered_instances = []\n",
    "# for edge in g_remove.instances():\n",
    "#     src, role, tgt = edge\n",
    "#     if (src not in remove_nodes) and (tgt not in remove_nodes):\n",
    "#         filtered_instances.append(edge)\n",
    "\n",
    "# g_filt = penman.Graph(filtered_edges + filtered_attributes + filtered_instances)\n",
    "\n",
    "# print(penman.encode(g_filt))"
   ]
  },
  {
   "cell_type": "code",
   "execution_count": 11,
   "id": "d712c202-d0ca-4007-889e-2a2b22489651",
   "metadata": {},
   "outputs": [
    {
     "name": "stdout",
     "output_type": "stream",
     "text": [
      "(d / die-01\n",
      "      :ARG1 (p / person\n",
      "            :name (n / name\n",
      "                  :op1 \"Abraham\"\n",
      "                  :op2 \"Lincoln\"))\n",
      "      :location (a / amr-unknown))\n",
      "(d / die-01\n",
      "      :ARG1 (p / person\n",
      "            :name (n / name\n",
      "                  :op1 \"Abraham\"\n",
      "                  :op2 \"Lincoln\"))\n",
      "      :location (a / amr-unknown)\n",
      "\t:entities ( el / entity_list\n",
      "\t\t:entity (all0/ linked_entity\n",
      "\t\t\t\t:surface_form \"Abraham Lincoln\"\n",
      "\t\t\t\t:uri \"http://dbpedia.org/resource/Abraham_Lincoln\")))\n",
      "\n"
     ]
    }
   ],
   "source": [
    "amr_filt = qald[f'train_{example}']['extended_amr'].split(':entities')[0].strip() + ')'\n",
    "print(amr_filt)\n",
    "print(qald[f'train_{example}']['extended_amr'])"
   ]
  },
  {
   "cell_type": "code",
   "execution_count": 12,
   "id": "56b2bdb2-7fb0-49af-b6fe-e4c63f4df650",
   "metadata": {},
   "outputs": [],
   "source": [
    "sents = [qald[f'train_{example}']['text'].lower()]\n",
    "graph_strings = [amr_filt]"
   ]
  },
  {
   "cell_type": "code",
   "execution_count": 13,
   "id": "4e8a366c-baad-4037-9b7f-349ee6d83ad3",
   "metadata": {},
   "outputs": [
    {
     "name": "stdout",
     "output_type": "stream",
     "text": [
      "['4-1 2-1.1.1.1 3-1.1.1.2 0-1.2 1-1.2 ']\n"
     ]
    }
   ],
   "source": [
    "amr_surface_aligns, alignment_strings = inference.align_sents(sents, graph_strings)\n",
    "print(alignment_strings)"
   ]
  },
  {
   "cell_type": "code",
   "execution_count": 14,
   "id": "aa6020bb-27c5-433f-821f-1a00d88ad75a",
   "metadata": {},
   "outputs": [
    {
     "data": {
      "text/plain": [
       "'where did abraham lincoln die?'"
      ]
     },
     "execution_count": 14,
     "metadata": {},
     "output_type": "execute_result"
    }
   ],
   "source": [
    "qald[f'train_{example}']['text'].lower()"
   ]
  },
  {
   "cell_type": "code",
   "execution_count": 15,
   "id": "80d365e3-aafe-483e-ae90-a2ff1ee31315",
   "metadata": {},
   "outputs": [
    {
     "data": {
      "text/plain": [
       "['4-1', '2-1.1.1.1', '3-1.1.1.2', '0-1.2', '1-1.2']"
      ]
     },
     "execution_count": 15,
     "metadata": {},
     "output_type": "execute_result"
    }
   ],
   "source": [
    "alignment_strings[0].split()"
   ]
  },
  {
   "cell_type": "code",
   "execution_count": 16,
   "id": "f6243ca7-707c-4657-b906-b4e38b591e85",
   "metadata": {},
   "outputs": [
    {
     "name": "stdout",
     "output_type": "stream",
     "text": [
      "(d / die-01~e.4\n",
      "   :arg1 (p / person\n",
      "            :name (n / name\n",
      "                     :op1 \"abraham\"~e.2\n",
      "                     :op2 \"lincoln\"~e.3))\n",
      "   :location (a / amr-unknown~e.0,1))\n"
     ]
    }
   ],
   "source": [
    "print(penman.format(penman.parse(amr_surface_aligns[0])))"
   ]
  },
  {
   "cell_type": "markdown",
   "id": "a6053439-ba39-4cde-b108-98f4e84f97ca",
   "metadata": {},
   "source": [
    "### Identify entity nodes"
   ]
  },
  {
   "cell_type": "markdown",
   "id": "21b970ea-3cf2-4cc2-ad52-b1a7e7dffccc",
   "metadata": {},
   "source": [
    "- use linked entities in AMR graph to retrieve surface forms\n",
    "- identify the token index position of these surface forms in the sentence\n",
    "- use alignment strings to narrow in on a node in the graph\n",
    "- TODO: determine how to use alignment string graph indexing\n",
    "- retrieve entity nodes or perhaps more importantly, retrieve the parent node\n",
    "- for example\n",
    "```\n",
    ":name (n / name\n",
    "         :op1 \"abraham\"~e.2\n",
    "         :op2 \"lincoln\"~e.3)\n",
    "```"
   ]
  },
  {
   "cell_type": "code",
   "execution_count": 17,
   "id": "e160038f-10f8-4208-994b-52cb77293a5c",
   "metadata": {},
   "outputs": [
    {
     "name": "stdout",
     "output_type": "stream",
     "text": [
      "(d / die-01\n",
      "      :ARG1 (p / person\n",
      "            :name (n / name\n",
      "                  :op1 \"Abraham\"\n",
      "                  :op2 \"Lincoln\"))\n",
      "      :location (a / amr-unknown)\n",
      "\t:entities ( el / entity_list\n",
      "\t\t:entity (all0/ linked_entity\n",
      "\t\t\t\t:surface_form \"Abraham Lincoln\"\n",
      "\t\t\t\t:uri \"http://dbpedia.org/resource/Abraham_Lincoln\")))\n",
      "\n"
     ]
    }
   ],
   "source": [
    "print(qald[f'train_{example}']['extended_amr'])"
   ]
  },
  {
   "cell_type": "code",
   "execution_count": 20,
   "id": "41ad20fc-f876-4d60-bed2-b39b27f94969",
   "metadata": {},
   "outputs": [],
   "source": [
    "g = penman.decode(qald[f'train_{example}']['extended_amr'])\n",
    "edge_list = []\n",
    "for src, role, tgt in g.triples:\n",
    "    if tgt.startswith('\"'):\n",
    "        tgt = eval(tgt)\n",
    "    edge_list.append((src, tgt, {'role':role}))\n",
    "\n",
    "di_g = nx.DiGraph()\n",
    "di_g.add_edges_from(edge_list)"
   ]
  },
  {
   "cell_type": "code",
   "execution_count": 21,
   "id": "84bec2c2-ba59-4976-a739-d8319494bc1c",
   "metadata": {},
   "outputs": [],
   "source": [
    "surface_forms = [v for u,v,e in di_g.edges(data=True) if e['role'] == ':surface_form']"
   ]
  },
  {
   "cell_type": "code",
   "execution_count": 22,
   "id": "148e4960-2243-453f-bae6-f2db9a620e06",
   "metadata": {},
   "outputs": [
    {
     "data": {
      "text/plain": [
       "['Abraham Lincoln']"
      ]
     },
     "execution_count": 22,
     "metadata": {},
     "output_type": "execute_result"
    }
   ],
   "source": [
    "surface_forms"
   ]
  },
  {
   "cell_type": "code",
   "execution_count": 23,
   "id": "41115716-d4bb-4cad-abef-5ee58dd97d0c",
   "metadata": {},
   "outputs": [
    {
     "data": {
      "text/plain": [
       "<networkx.classes.digraph.DiGraph at 0x7f339d0f5b50>"
      ]
     },
     "execution_count": 23,
     "metadata": {},
     "output_type": "execute_result"
    }
   ],
   "source": [
    "di_g"
   ]
  },
  {
   "cell_type": "code",
   "execution_count": 24,
   "id": "b627841a-52c2-4ecd-a911-4490e41da040",
   "metadata": {},
   "outputs": [
    {
     "data": {
      "text/plain": [
       "'d'"
      ]
     },
     "execution_count": 24,
     "metadata": {},
     "output_type": "execute_result"
    }
   ],
   "source": [
    "g.top"
   ]
  },
  {
   "cell_type": "code",
   "execution_count": 25,
   "id": "224a5824-4b85-4766-a578-fa9efe922aa4",
   "metadata": {},
   "outputs": [
    {
     "data": {
      "image/png": "[encoded data removed]",
      "text/plain": [
       "<Figure size 1440x360 with 1 Axes>"
      ]
     },
     "metadata": {},
     "output_type": "display_data"
    }
   ],
   "source": [
    "plt.figure(figsize=(20,5)) \n",
    "pos = graphviz_layout(di_g, prog=\"dot\", root='d')\n",
    "nx.draw(di_g, pos, with_labels=True, node_size=300)\n",
    "plt.show()"
   ]
  },
  {
   "cell_type": "code",
   "execution_count": 26,
   "id": "c87ac69e-2146-48ff-a94c-f2d195db0595",
   "metadata": {},
   "outputs": [],
   "source": [
    "# retrieve word idxs\n",
    "word_idxs = []\n",
    "for surface_form in surface_forms:\n",
    "    # assuming surface_form only appears once in the text\n",
    "    # TODO: handle cases where surface form doesn't appear in text (e.g typos, etc.)\n",
    "    start_idx = qald[f'train_{example}']['text'].index(surface_form)\n",
    "    end_idx = start_idx + len(surface_form)\n",
    "    # remove everything after (and including) surface form\n",
    "    pre_surface_form = qald[f'train_{example}']['text'][:start_idx]\n",
    "    tokens_before = len(pre_surface_form.split())\n",
    "    tokens_in_surface_form = [i + tokens_before for i in range(len(surface_form.split()))]\n",
    "    word_idxs.append(tokens_in_surface_form)"
   ]
  },
  {
   "cell_type": "code",
   "execution_count": 27,
   "id": "2d37fd6b-6931-42e6-bb37-acc0613bc08b",
   "metadata": {},
   "outputs": [
    {
     "data": {
      "text/plain": [
       "[[2, 3]]"
      ]
     },
     "execution_count": 27,
     "metadata": {},
     "output_type": "execute_result"
    }
   ],
   "source": [
    "word_idxs"
   ]
  },
  {
   "cell_type": "code",
   "execution_count": 28,
   "id": "456e7f5b-07a7-4c9a-bdbb-2d1792c01b13",
   "metadata": {},
   "outputs": [],
   "source": [
    "# use alignment strings to retrieve position in graph\n",
    "alignments = {}\n",
    "for mapping in alignment_strings[0].split():\n",
    "    tok_idx, graph_idx = mapping.split('-')\n",
    "    alignments[int(tok_idx)] = graph_idx"
   ]
  },
  {
   "cell_type": "code",
   "execution_count": 29,
   "id": "0f4bab84-7042-474c-b64a-b492f7542380",
   "metadata": {},
   "outputs": [],
   "source": [
    "graph_idxs = []\n",
    "for surface_form in word_idxs:\n",
    "    surface_form_g_idxs = []\n",
    "    for word_idx in surface_form:\n",
    "        if word_idx in alignments:\n",
    "            surface_form_g_idxs.append(alignments[word_idx])\n",
    "    graph_idxs.append(surface_form_g_idxs)"
   ]
  },
  {
   "cell_type": "code",
   "execution_count": 30,
   "id": "c7b94458-9e41-40d2-a07a-2aa5bdc62512",
   "metadata": {},
   "outputs": [
    {
     "data": {
      "text/plain": [
       "[('Abraham Lincoln', ['1.1.1.1', '1.1.1.2'])]"
      ]
     },
     "execution_count": 30,
     "metadata": {},
     "output_type": "execute_result"
    }
   ],
   "source": [
    "# confirm that all tokens roll up to the same parent entity\n",
    "list(zip(surface_forms, graph_idxs))"
   ]
  },
  {
   "cell_type": "code",
   "execution_count": 50,
   "id": "ce663180-7a7c-4f23-8fd5-2a092aa6651d",
   "metadata": {},
   "outputs": [],
   "source": [
    "# BFS style traversal from root node to number nodes\n",
    "class IndexBFS(object):\n",
    "    def __init__(self, g, root):\n",
    "        self.g = g\n",
    "        self.root = root\n",
    "        # index the nodes\n",
    "        self.g.nodes[root]['index'] = '1'\n",
    "        self.visited = set()\n",
    "        self.frontier = [root]\n",
    "    \n",
    "    def bfs(self):\n",
    "        while self.frontier:\n",
    "            node = self.frontier.pop(0)\n",
    "            if node in self.visited:\n",
    "                continue\n",
    "            else:\n",
    "                self.visited.add(node)\n",
    "            \n",
    "            child_counter = 1\n",
    "            for child in self.g.successors(node):\n",
    "                # set index of children\n",
    "                # no index required if edge type is instance\n",
    "                if self.g[node][child]['role'] == ':instance':\n",
    "                    self.g.nodes[child]['index'] = None\n",
    "                    continue\n",
    "                \n",
    "                parent_index = self.g.nodes[node]['index']\n",
    "                child_index = f'{parent_index}.{child_counter}'\n",
    "                self.g.nodes[child]['index'] = child_index\n",
    "                self.frontier.append(child)\n",
    "                child_counter += 1\n",
    "        return self.g"
   ]
  },
  {
   "cell_type": "code",
   "execution_count": 51,
   "id": "48904161-818d-4f14-bbad-cf498016a2f4",
   "metadata": {},
   "outputs": [],
   "source": [
    "idx_bfs = IndexBFS(di_g, root='d')\n",
    "\n",
    "result_g = idx_bfs.bfs()"
   ]
  },
  {
   "cell_type": "code",
   "execution_count": 53,
   "id": "c55b2b98-5945-42f0-a426-70455bc0722a",
   "metadata": {},
   "outputs": [
    {
     "data": {
      "text/plain": [
       "{'index': '1.1.1.2'}"
      ]
     },
     "execution_count": 53,
     "metadata": {},
     "output_type": "execute_result"
    }
   ],
   "source": [
    "result_g.nodes['Lincoln']"
   ]
  },
  {
   "cell_type": "code",
   "execution_count": 54,
   "id": "2da53aa8-8e62-425a-b237-d6192cfa3507",
   "metadata": {},
   "outputs": [
    {
     "name": "stdout",
     "output_type": "stream",
     "text": [
      "(d / die-01\n",
      "      :ARG1 (p / person\n",
      "            :name (n / name\n",
      "                  :op1 \"Abraham\"\n",
      "                  :op2 \"Lincoln\"))\n",
      "      :location (a / amr-unknown)\n",
      "\t:entities ( el / entity_list\n",
      "\t\t:entity (all0/ linked_entity\n",
      "\t\t\t\t:surface_form \"Abraham Lincoln\"\n",
      "\t\t\t\t:uri \"http://dbpedia.org/resource/Abraham_Lincoln\")))\n",
      "\n"
     ]
    }
   ],
   "source": [
    "print(qald[f'train_{example}']['extended_amr'])"
   ]
  },
  {
   "cell_type": "code",
   "execution_count": 58,
   "id": "d76e1639-9f0a-4661-aff4-446ab2c77c6a",
   "metadata": {},
   "outputs": [],
   "source": [
    "# if node name is more than a single letter, then likely a name entity\n",
    "# check if parent is name, and if so, retrieve the parent above name to treat as the entity node\n",
    "entity_nodes = []\n",
    "for entity_idxs in graph_idxs:\n",
    "    parents = []\n",
    "    for idx in entity_idxs:\n",
    "        node = [x for x, y in result_g.nodes(data=True) if y['index'] == idx][0]\n",
    "        parents.append(next(result_g.predecessors(node)))\n",
    "    \n",
    "    # assert they all share the same parent\n",
    "    all_same = all(x == parents[0] for x in parents)\n",
    "    assert all_same\n",
    "    parent = parents[0]\n",
    "    \n",
    "    # if parent is an instance of a name\n",
    "    if ('name' in result_g[parent]) and (result_g[parent]['name']['role'] == ':instance'):\n",
    "        # then retrieve the parent of 'name' and treat that as an entity node\n",
    "        grandparent = next(result_g.predecessors(parent))\n",
    "        entity_nodes.append(grandparent)\n",
    "    \n",
    "    # TODO: if edge type is mod, retrieve parent to treat as the entity node"
   ]
  },
  {
   "cell_type": "code",
   "execution_count": 60,
   "id": "4cc80f90-3641-4098-8cf3-d46baceb4015",
   "metadata": {},
   "outputs": [
    {
     "data": {
      "text/plain": [
       "['p']"
      ]
     },
     "execution_count": 60,
     "metadata": {},
     "output_type": "execute_result"
    }
   ],
   "source": [
    "entity_nodes"
   ]
  },
  {
   "cell_type": "markdown",
   "id": "f5991a32-c0b9-4df6-9f33-1edd3f6af450",
   "metadata": {},
   "source": [
    "### Implement Algorithm"
   ]
  },
  {
   "cell_type": "code",
   "execution_count": 61,
   "id": "d3f23743-3155-4ec7-aa79-29566885793b",
   "metadata": {},
   "outputs": [],
   "source": [
    "g = penman.decode(qald[f'train_{example}']['extended_amr'])"
   ]
  },
  {
   "cell_type": "code",
   "execution_count": 62,
   "id": "b780b194-acf9-4ebf-8b93-2c1380013e72",
   "metadata": {},
   "outputs": [
    {
     "data": {
      "text/plain": [
       "'d'"
      ]
     },
     "execution_count": 62,
     "metadata": {},
     "output_type": "execute_result"
    }
   ],
   "source": [
    "g.top"
   ]
  },
  {
   "cell_type": "code",
   "execution_count": 63,
   "id": "443f0c5f-0af0-4979-821a-9e0532a13341",
   "metadata": {},
   "outputs": [
    {
     "data": {
      "text/plain": [
       "[Instance(source='d', role=':instance', target='die-01'),\n",
       " Instance(source='p', role=':instance', target='person'),\n",
       " Instance(source='n', role=':instance', target='name'),\n",
       " Instance(source='a', role=':instance', target='amr-unknown'),\n",
       " Instance(source='el', role=':instance', target='entity_list'),\n",
       " Instance(source='all0', role=':instance', target='linked_entity')]"
      ]
     },
     "execution_count": 63,
     "metadata": {},
     "output_type": "execute_result"
    }
   ],
   "source": [
    "g.instances()"
   ]
  },
  {
   "cell_type": "code",
   "execution_count": 64,
   "id": "5724f843-be57-4b1e-9106-7da6743f1c1a",
   "metadata": {},
   "outputs": [],
   "source": [
    "def is_imperative(g):\n",
    "    imperative = False\n",
    "    for source, edge_label, dest in g.triples:\n",
    "        if edge_label == ':mode' and dest == 'imperative':\n",
    "            imperative = True\n",
    "    return imperative"
   ]
  },
  {
   "cell_type": "code",
   "execution_count": 67,
   "id": "d17565cb-43ed-44a2-9613-158122883042",
   "metadata": {},
   "outputs": [],
   "source": [
    "def remove_source_node_edges(variable, g):\n",
    "    \"\"\"TODO: address children\"\"\"\n",
    "    filtered_instances = []\n",
    "    for instance in g.instances():\n",
    "        src, role, tgt = instance\n",
    "        if src != variable:\n",
    "            filtered_instances.append(instance)\n",
    "    \n",
    "    filtered_edges = []\n",
    "    for edge in g.edges():\n",
    "        src, role, tgt = edge\n",
    "        if (src != variable) and (target != variable):\n",
    "            filtered_edges.append(edge)\n",
    "    \n",
    "    filtered_attributes = []\n",
    "    for attr in g.attributes():\n",
    "        src, role, tgt = attr\n",
    "        if (src != variable) and (target != variable):\n",
    "            filtered_attributes.append(attr)\n",
    "            \n",
    "    # create new graph\n",
    "    g2 = penman.Graph(filtered_instances + filtered_edges + filtered_attributes)\n",
    "    return g2"
   ]
  },
  {
   "cell_type": "code",
   "execution_count": 68,
   "id": "43b363e2-e69f-4324-9913-9023941e589e",
   "metadata": {},
   "outputs": [],
   "source": [
    "# AMR to triples\n",
    "# Algorithm 1: https://arxiv.org/pdf/2012.01707.pdf\n",
    "# idx = 0\n",
    "text = qald[f'train_{example}']\n",
    "# TODO: determine how to represent amr as a graph explicitly\n",
    "amr = qald[f'train_{example}']['extended_amr']\n",
    "query_nodes = set()\n",
    "query_edges = set()\n",
    "\n",
    "# if text is imperative\n",
    "# check if :mode imperative in the edges\n",
    "g = penman.decode(amr)\n",
    "if is_imperative(g):\n",
    "    # TODO: determine if we need to zoom in on the imperative predicate\n",
    "    r = g.top\n",
    "    # retrieve the ARG1 node from r\n",
    "    # TODO: what to do if ARG1 is not present?\n",
    "    arg1 = [tgt for src, role, tgt in g.edges() if role == ':ARG1'][0]\n",
    "    # get idx for row where source == arg1 and set it as amr-unknown\n",
    "    for idx, instance in enumerate(g.instances()):\n",
    "        src, role, tgt = instance\n",
    "        if src == arg1:\n",
    "            break\n",
    "    instances = g.instances()\n",
    "    new_instance = penman.graph.Instance(source=src, role=role, target='amr-unknown')\n",
    "    instances[idx] = new_instance\n",
    "    # update the graph\n",
    "    g = penman.graph.Graph(triples=g.edges()+instances+g.attributes())\n",
    "    # delete r and it's edges\n",
    "    g = remove_source_node_edges(r, g)\n",
    "\n",
    "# TODO: are we assuming only one amr-unknown will be present?\n",
    "# get node id for a\n",
    "a = 'amr-unknown'\n",
    "a_node_id = [src for src, role, tgt in g.instances() if (role == ':instance') and (tgt == a)][0]\n",
    "# if there is a modifier edge\n",
    "for src, role, tgt in g.edges() + g.attributes():\n",
    "    if (src == a_node_id) and (role == ':mod'):\n",
    "        a_node_id = tgt\n",
    "        break\n",
    "    elif (tgt == a_node_id) and (role == ':mod'):\n",
    "        a_node_id = src\n",
    "        break"
   ]
  },
  {
   "cell_type": "code",
   "execution_count": 69,
   "id": "e3f63662-34cb-41aa-9b8a-1b7fba996de0",
   "metadata": {},
   "outputs": [
    {
     "name": "stdout",
     "output_type": "stream",
     "text": [
      "(d / die-01\n",
      "      :ARG1 (p / person\n",
      "            :name (n / name\n",
      "                  :op1 \"Abraham\"\n",
      "                  :op2 \"Lincoln\"))\n",
      "      :location (a / amr-unknown)\n",
      "\t:entities ( el / entity_list\n",
      "\t\t:entity (all0/ linked_entity\n",
      "\t\t\t\t:surface_form \"Abraham Lincoln\"\n",
      "\t\t\t\t:uri \"http://dbpedia.org/resource/Abraham_Lincoln\")))\n",
      "\n"
     ]
    }
   ],
   "source": [
    "print(amr)"
   ]
  },
  {
   "cell_type": "code",
   "execution_count": 70,
   "id": "52368fa0-38c6-4ba2-9dbb-40e0fb1ed087",
   "metadata": {},
   "outputs": [],
   "source": [
    "G = nx.Graph()\n",
    "\n",
    "edge_list = []\n",
    "for src, role, tgt in g.edges():\n",
    "    edge_list.append((src, tgt, {'role':role}))\n",
    "\n",
    "G.add_edges_from(edge_list)"
   ]
  },
  {
   "cell_type": "code",
   "execution_count": 3,
   "id": "91cc8ae7-c2b3-4db8-b8f8-d61d677172ba",
   "metadata": {},
   "outputs": [],
   "source": [
    "with open('/home/iron-man/Documents/data/amr-qa/probbank-dbpedia.pkl', 'rb') as f:\n",
    "    mapping = pickle.load(f)"
   ]
  },
  {
   "cell_type": "code",
   "execution_count": 10,
   "id": "83ba9cbd-546e-40cf-8eb9-7808ab34071f",
   "metadata": {},
   "outputs": [
    {
     "data": {
      "text/plain": [
       "'dbo:usedInWar'"
      ]
     },
     "execution_count": 10,
     "metadata": {},
     "output_type": "execute_result"
    }
   ],
   "source": [
    "mapping['relation_scores']['use-01'][0]['rel']"
   ]
  },
  {
   "cell_type": "code",
   "execution_count": 74,
   "id": "9a3934cd-ed58-4429-b6e7-f1cb36732288",
   "metadata": {},
   "outputs": [],
   "source": [
    "prop_bank_predicates = set(list(mapping['relation_scores'].keys()))"
   ]
  },
  {
   "cell_type": "code",
   "execution_count": 75,
   "id": "6eb5a7fa-3282-4ddd-91e9-89a940d3657d",
   "metadata": {},
   "outputs": [
    {
     "data": {
      "text/plain": [
       "['p']"
      ]
     },
     "execution_count": 75,
     "metadata": {},
     "output_type": "execute_result"
    }
   ],
   "source": [
    "entity_nodes"
   ]
  },
  {
   "cell_type": "code",
   "execution_count": 76,
   "id": "52e67877-773d-4858-9433-d3b8582b4d0e",
   "metadata": {},
   "outputs": [
    {
     "name": "stdout",
     "output_type": "stream",
     "text": [
      "a p\n",
      "['a', 'd', 'p']\n"
     ]
    }
   ],
   "source": [
    "query_nodes = set()\n",
    "query_edges = set()\n",
    "\n",
    "for entity_node_id in entity_nodes:\n",
    "    print(a_node_id, entity_node_id)\n",
    "    amr_path = nx.shortest_path(G, a_node_id, entity_node_id)\n",
    "    print(amr_path)\n",
    "\n",
    "    collapsed_path = [a_node_id]\n",
    "    source = a_node_id # n' in algo\n",
    "    rel_builder = ''\n",
    "    for idx, target in enumerate(amr_path[1:]):\n",
    "        # get instance type of node\n",
    "        node_type = [tgt for src, role, tgt in g.instances() if src == target][0]\n",
    "        if node_type in prop_bank_predicates:\n",
    "            rel = ''\n",
    "            # get relation type\n",
    "            for src, role, tgt in g.edges():\n",
    "                if ((src == source) and (tgt == target)) or ((src == target) and (tgt == source)):\n",
    "                    rel = role\n",
    "                    break\n",
    "            # ignore core roles such as ARG{0,...,n}\n",
    "            if rel.startswith(':ARG'):\n",
    "                rel = ''\n",
    "            else:\n",
    "                rel = rel[1:] + '|'\n",
    "            \n",
    "            # retrieve the second part of the relation exiting from target\n",
    "            next_rel = ''\n",
    "            next_node_on_path = amr_path[1:][idx+1]\n",
    "            # get relation type\n",
    "            for src, role, tgt in g.edges():\n",
    "                if ((src == next_node_on_path) and (tgt == target)) or ((src == target) and (tgt == next_node_on_path)):\n",
    "                    next_rel = role\n",
    "                    break\n",
    "            # ignore core roles such as ARG{0,...,n}\n",
    "            if next_rel.startswith(':ARG'):\n",
    "                next_rel = ''\n",
    "            else:\n",
    "                next_rel = '|' + next_rel[1:]\n",
    "            \n",
    "            # TODO: what does getRel do? Does it include the predicate itself?\n",
    "            rel_builder = rel_builder + rel + node_type + next_rel\n",
    "        # TODO: better understand def of A_c in algo 1\n",
    "        else:\n",
    "            collapsed_path.append(target)\n",
    "            query_nodes.add(source)\n",
    "            query_nodes.add(target) # not done in the paper\n",
    "            # TODO: can we switch the order here?\n",
    "            query_edges.add((target, rel_builder, source))\n",
    "            source = target\n",
    "            rel_builder = ''"
   ]
  },
  {
   "cell_type": "code",
   "execution_count": 77,
   "id": "9e1bba72-ba43-45c6-b6f8-795265114a22",
   "metadata": {},
   "outputs": [
    {
     "data": {
      "text/plain": [
       "{'a', 'p'}"
      ]
     },
     "execution_count": 77,
     "metadata": {},
     "output_type": "execute_result"
    }
   ],
   "source": [
    "query_nodes"
   ]
  },
  {
   "cell_type": "code",
   "execution_count": 78,
   "id": "bb8ab42e-42a6-4cbb-a954-61473eeb8013",
   "metadata": {},
   "outputs": [
    {
     "data": {
      "text/plain": [
       "{('p', 'location|die-01', 'a')}"
      ]
     },
     "execution_count": 78,
     "metadata": {},
     "output_type": "execute_result"
    }
   ],
   "source": [
    "query_edges"
   ]
  },
  {
   "cell_type": "code",
   "execution_count": 79,
   "id": "e255b1ed-2fec-4219-ba21-d6ac61ee13d8",
   "metadata": {},
   "outputs": [],
   "source": [
    "# determine the query type\n",
    "query_type = 'SELECT DISTINCT'\n",
    "# TODO: implement logic for ASK queries\n",
    "# TODO: implement logic for handling the target variable\n",
    "# TODO: implement logic for sorting\n",
    "# TODO: implement logic for counting"
   ]
  },
  {
   "cell_type": "code",
   "execution_count": 80,
   "id": "b842defb-7fd3-4522-9234-9266c1a57f81",
   "metadata": {},
   "outputs": [
    {
     "data": {
      "text/plain": [
       "['p']"
      ]
     },
     "execution_count": 80,
     "metadata": {},
     "output_type": "execute_result"
    }
   ],
   "source": [
    "# TODO: translate entity nodes to entities\n",
    "# TODO: implement data structure to map between nodes and entities\n",
    "entity_nodes"
   ]
  },
  {
   "cell_type": "code",
   "execution_count": 82,
   "id": "d31e6834-1d5e-4530-99e9-392a9c6aae03",
   "metadata": {},
   "outputs": [],
   "source": [
    "# TODO: implement relation linking"
   ]
  },
  {
   "cell_type": "code",
   "execution_count": 83,
   "id": "2787ed65-bd33-4dd9-bde3-e47776be4948",
   "metadata": {},
   "outputs": [],
   "source": [
    "grounded_edges = set()\n",
    "grounded_edges.add(('a', 'dbo:deathPlace', 'http://dbpedia.org/resource/Abraham_Lincoln'))"
   ]
  },
  {
   "cell_type": "code",
   "execution_count": 84,
   "id": "35f2daa9-c89b-4156-93ed-b985b0799625",
   "metadata": {},
   "outputs": [],
   "source": [
    "clean_grounded_edges = set()\n",
    "# replace prefixes\n",
    "prefixes = {'http://dbpedia.org/ontology/': 'dbo:',\n",
    "            'http://dbpedia.org/resource/': 'res:',\n",
    "            'http://www.w3.org/2000/01/rdf-schema#': 'rdfs:'}\n",
    "for element in grounded_edges:\n",
    "    src, relation, tgt = element\n",
    "    clean_src = f'?{src}'\n",
    "    for prefix in prefixes:\n",
    "        if src.startswith(prefix):\n",
    "            clean_src = src.replace(prefix, prefixes[prefix])\n",
    "            break\n",
    "    \n",
    "    clean_tgt = f'?{tgt}'\n",
    "    for prefix in prefixes:\n",
    "        if tgt.startswith(prefix):\n",
    "            clean_tgt = tgt.replace(prefix, prefixes[prefix])\n",
    "            break\n",
    "    \n",
    "    clean_grounded_edges.add((clean_src, relation, clean_tgt))"
   ]
  },
  {
   "cell_type": "code",
   "execution_count": 85,
   "id": "c7cce783-be51-4df0-b930-20ca7c57a7ef",
   "metadata": {},
   "outputs": [
    {
     "data": {
      "text/plain": [
       "{('?a', 'dbo:deathPlace', 'res:Abraham_Lincoln')}"
      ]
     },
     "execution_count": 85,
     "metadata": {},
     "output_type": "execute_result"
    }
   ],
   "source": [
    "clean_grounded_edges"
   ]
  },
  {
   "cell_type": "code",
   "execution_count": 86,
   "id": "a739f5d7-f397-48fe-af2f-b7fdd0b6edfd",
   "metadata": {},
   "outputs": [],
   "source": [
    "# generate the query\n",
    "query_substrings = []\n",
    "for prefix in prefixes:\n",
    "    query_substrings.append(f'PREFIX {prefixes[prefix]} <{prefix}>')\n",
    "\n",
    "query_substrings.append(query_type)\n",
    "\n",
    "# get the variable\n",
    "# TODO: what if there are 0 or more than 1 variables?\n",
    "for element in clean_grounded_edges:\n",
    "    src, relation, tgt = element\n",
    "    if src.startswith('?'):\n",
    "        variable = src\n",
    "    elif tgt.startswith('?'):\n",
    "        variable = tgt\n",
    "\n",
    "query_substrings.append(variable)\n",
    "query_substrings.append('WHERE')\n",
    "\n",
    "# prepare triples\n",
    "triples = ['{']\n",
    "for element in clean_grounded_edges:\n",
    "    src, relation, tgt = element\n",
    "    triples.append(f'{src} {relation} {tgt}.')\n",
    "triples.append('}')\n",
    "query_substrings.extend(triples)"
   ]
  },
  {
   "cell_type": "code",
   "execution_count": 87,
   "id": "b7ab6132-91ef-4a2d-8a17-455dd8824e1b",
   "metadata": {},
   "outputs": [
    {
     "data": {
      "text/plain": [
       "'PREFIX dbo: <http://dbpedia.org/ontology/> PREFIX res: <http://dbpedia.org/resource/> PREFIX rdfs: <http://www.w3.org/2000/01/rdf-schema#> SELECT DISTINCT ?a WHERE { ?a dbo:deathPlace res:Abraham_Lincoln. }'"
      ]
     },
     "execution_count": 87,
     "metadata": {},
     "output_type": "execute_result"
    }
   ],
   "source": [
    "# TODO: how to handle all the possible 2^n possible orderings of triples\n",
    "' '.join(query_substrings)"
   ]
  },
  {
   "cell_type": "code",
   "execution_count": 88,
   "id": "534ad38f-f72b-460e-a0b4-cc99234883ee",
   "metadata": {},
   "outputs": [
    {
     "name": "stdout",
     "output_type": "stream",
     "text": [
      "PREFIX dbo: <http://dbpedia.org/ontology/> PREFIX res: <http://dbpedia.org/resource/> PREFIX rdfs: <http://www.w3.org/2000/01/rdf-schema#> SELECT DISTINCT ?uri WHERE { res:Abraham_Lincoln dbo:deathPlace ?uri. }\n"
     ]
    }
   ],
   "source": [
    "print(qald[f'train_{example}']['sparql'])"
   ]
  },
  {
   "cell_type": "code",
   "execution_count": null,
   "id": "6a105653-f010-4821-985c-d562d4e7aae5",
   "metadata": {},
   "outputs": [],
   "source": []
  },
  {
   "cell_type": "code",
   "execution_count": null,
   "id": "e45486d8-498d-4c2b-ae97-ae51ed8252f8",
   "metadata": {},
   "outputs": [],
   "source": []
  }
 ],
 "metadata": {
  "kernelspec": {
   "display_name": "Python (amr-qa)",
   "language": "python",
   "name": "amr-qa"
  },
  "language_info": {
   "codemirror_mode": {
    "name": "ipython",
    "version": 3
   },
   "file_extension": ".py",
   "mimetype": "text/x-python",
   "name": "python",
   "nbconvert_exporter": "python",
   "pygments_lexer": "ipython3",
   "version": "3.8.10"
  }
 },
 "nbformat": 4,
 "nbformat_minor": 5
}
